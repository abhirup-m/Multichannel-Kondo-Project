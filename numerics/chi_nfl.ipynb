{
 "cells": [
  {
   "cell_type": "code",
   "execution_count": 4,
   "id": "7909c776-865b-4403-b452-2d772a6fc24f",
   "metadata": {},
   "outputs": [],
   "source": [
    "import numpy as np\n",
    "from qutip import *\n",
    "from tqdm import tqdm\n",
    "from multiprocessing import Pool\n",
    "import matplotlib\n",
    "from math import factorial\n",
    "from matplotlib import pyplot as plt\n",
    "from itertools import product,combinations\n",
    "from scipy.optimize import curve_fit\n",
    "plt.rc('font', size=30)          # controls default text sizes\n",
    "plt.rc('xtick', labelsize=30)    # fontsize of the tick labels\n",
    "plt.rc('ytick', labelsize=30)    # fontsize of the tick labels\n",
    "plt.rc('legend', fontsize=20)    # legend fontsize\n",
    "plt.rc('lines', markersize = 10)\n",
    "\n",
    "matplotlib.rcParams['text.usetex'] = True\n",
    "plt.rcParams[\"figure.figsize\"]= 10, 10\n",
    "plt.rcParams['figure.dpi'] = 70\n",
    "matplotlib.rcParams['lines.linewidth'] = 4\n",
    "props = dict(boxstyle='round', alpha=0.01)"
   ]
  },
  {
   "cell_type": "code",
   "execution_count": 2,
   "id": "49971827-84a8-4d46-8853-2c37039e2d93",
   "metadata": {},
   "outputs": [],
   "source": [
    "def get_ham(f1, f2, t, N, K=2):\n",
    "    H = 0\n",
    "    for i in range(N):\n",
    "        ops = [identity(2)]*(2*N)*K\n",
    "        for sigma in [0,1]:\n",
    "            ops = [identity(2)]*(2*N)*K\n",
    "            ops[2*i+sigma] = create(2)\n",
    "            ops[(2*(i+1)+sigma)%(2*N)] = destroy(2)\n",
    "            H += -t*tensor(ops)\n",
    "            if K == 2:\n",
    "                ops = [identity(2)]*(2*N)*K\n",
    "                ops[2*i+sigma + 2*N] = create(2)\n",
    "                ops[(2*(i+1)+sigma)%(2*N) + 2*N] = destroy(2)\n",
    "                H += -t*tensor(ops)\n",
    "    \n",
    "    if f1 != 0 and K == 1:\n",
    "        num = create(2)*destroy(2)\n",
    "        H += -(f1/2) * tensor([identity(2)]*2 + [num, identity(2)] + [identity(2)]*2*(N-2))\n",
    "        H += -(f1/2) * tensor([identity(2)]*2 + [identity(2), num] + [identity(2)]*2*(N-2))\n",
    "        H += f1 * tensor([identity(2)]*2 + [num, num] + [identity(2)]*2*(N-2))\n",
    "    \n",
    "    if f2 != 0 and K > 1:\n",
    "        NFL_part = 0\n",
    "        Sz = 0.5*(tensor(create(2)*destroy(2), identity(2)) - tensor(identity(2), create(2)*destroy(2)))\n",
    "        splus = tensor(create(2), destroy(2))\n",
    "        sminus = tensor(destroy(2), create(2))\n",
    "\n",
    "        if N > 2:\n",
    "            rest = tensor([identity(2)]*(2*(N-2)))\n",
    "            NFL_part += tensor(Sz**2, sminus, rest, splus, tensor([identity(2)]*2), rest)\n",
    "            NFL_part += tensor(Sz**2, tensor([identity(2)]*2), rest, sminus, splus, rest)\n",
    "            NFL_part += tensor(splus, sminus, rest, Sz**2, tensor([identity(2)]*2), rest)\n",
    "            NFL_part += tensor(splus, tensor([identity(2)]*2), rest, Sz**2, sminus, rest)\n",
    "        else:\n",
    "            NFL_part += tensor(Sz**2, sminus, splus, tensor([identity(2)]*2))\n",
    "            NFL_part += tensor(Sz**2, tensor([identity(2)]*2), sminus, splus)\n",
    "            NFL_part += tensor(splus, sminus, Sz**2, tensor([identity(2)]*2))\n",
    "            NFL_part += tensor(splus, tensor([identity(2)]*2), Sz**2, sminus)\n",
    "\n",
    "        H += f2 * (NFL_part + NFL_part.dag())\n",
    "    return H"
   ]
  },
  {
   "cell_type": "code",
   "execution_count": null,
   "id": "32b9e628-c65f-4dd5-95a4-661d4f22e9ce",
   "metadata": {},
   "outputs": [
    {
     "name": "stdout",
     "output_type": "stream",
     "text": [
      "FL\n",
      "N= 2\n",
      "[[1.]]\n",
      "N= 3\n",
      "[[0.99894482]]\n",
      "N= 4\n",
      "[[1.]]\n",
      "N= 5\n",
      "[[2.34705879e-07]]\n",
      "[[0.10501215]]\n",
      "[[0.87707023]]\n",
      "[[0.00055238]]\n",
      "[[0.56689345]]\n",
      "[[0.11621561]]\n",
      "[[0.00047527]]\n",
      "[[0.32719294]]\n",
      "[[0.00660923]]\n",
      "[[0.99897211]]\n",
      "[[0.00090147]]\n",
      "[[0.00010493]]\n",
      "N= 6\n",
      "[[1.]]\n",
      "N= 7\n"
     ]
    }
   ],
   "source": [
    "# t = 0.5\n",
    "# J = 1\n",
    "# f2 = 8*t**2/J\n",
    "# print (\"NFL\")\n",
    "# for N in range(2, 4):\n",
    "#     print (\"N=\",N)\n",
    "#     H = get_ham(0, f2, t, N, K=2)\n",
    "#     E, X = H.eigenstates()\n",
    "#     Xgs = X[E == min(E)]\n",
    "#     H0 = get_ham(0, 0, t, N, K=2)\n",
    "#     E0, X0 = H0.eigenstates()\n",
    "#     Xgs0 = X0[E0 == min(E0)]\n",
    "#     for X, X0 in product(Xgs, Xgs0):\n",
    "#         print (np.abs((X.dag()*X0)[0])**2)\n",
    "\n",
    "t = 0.01\n",
    "J = 1\n",
    "print (\"FL\")\n",
    "f1 = 32*t**4 / (3 * J**3)\n",
    "for N in range(2, 8):\n",
    "    print (\"N=\",N)\n",
    "    H = get_ham(f1, 0, t, N, K=1)\n",
    "    E, X = H.eigenstates()\n",
    "    Xgs = X[E == min(E)]\n",
    "    H0 = get_ham(0, 0, t, N, K=1)\n",
    "    E0, X0 = H0.eigenstates()\n",
    "    Xgs0 = X0[E0 == min(E0)]\n",
    "    for X, X0 in product(Xgs, Xgs0):\n",
    "        print (np.abs((X.dag()*X0)[0])**2)"
   ]
  },
  {
   "cell_type": "code",
   "execution_count": null,
   "id": "94425a02-ac6f-4868-a79c-8abc76bbde54",
   "metadata": {},
   "outputs": [],
   "source": [
    "def get_basis(n, K=2):\n",
    "    N = 2*K*n\n",
    "    basis = []\n",
    "    for i in range(N+1):\n",
    "        selections = [list(item) for item in combinations(range(N), i)]\n",
    "        # print (selections)\n",
    "        for sel in selections:\n",
    "            base = np.zeros(N)\n",
    "            base[sel] = 1\n",
    "            basis.append(base)\n",
    "        \n",
    "    return basis\n",
    "\n",
    "basis = get_basis(2)\n"
   ]
  },
  {
   "cell_type": "code",
   "execution_count": 5,
   "id": "199736f0-5a41-49ba-a875-d21313dc5456",
   "metadata": {},
   "outputs": [
    {
     "data": {
      "image/png": "[encoded data removed]",
      "text/plain": [
       "<Figure size 700x700 with 1 Axes>"
      ]
     },
     "metadata": {
      "needs_background": "light"
     },
     "output_type": "display_data"
    }
   ],
   "source": [
    "K = np.arange(2, 200, 1)\n",
    "f1 = np.log(K)\n",
    "f2 = np.log(2*np.cos(np.pi/(K+2)))\n",
    "plt.plot(K, f1, label=r\"$\\ln K$\", color='r')\n",
    "plt.plot(K, f2, label=r\"$\\ln 2\\cos \\frac{\\pi}{K+2}$\", color='b')\n",
    "plt.yscale(\"log\")\n",
    "plt.legend()\n",
    "plt.xlabel(r\"$K$\")\n",
    "plt.ylabel(r\"$S(T=0)$\")\n",
    "plt.savefig(\"entropy_comparison.pdf\", bbox_inches='tight')"
   ]
  },
  {
   "cell_type": "code",
   "execution_count": null,
   "id": "c0e62497-e444-4156-a294-d0e211161a39",
   "metadata": {},
   "outputs": [],
   "source": []
  }
 ],
 "metadata": {
  "kernelspec": {
   "display_name": "Python 3 (ipykernel)",
   "language": "python",
   "name": "python3"
  },
  "language_info": {
   "codemirror_mode": {
    "name": "ipython",
    "version": 3
   },
   "file_extension": ".py",
   "mimetype": "text/x-python",
   "name": "python",
   "nbconvert_exporter": "python",
   "pygments_lexer": "ipython3",
   "version": "3.9.7"
  }
 },
 "nbformat": 4,
 "nbformat_minor": 5
}
