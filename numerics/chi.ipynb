{
 "cells": [
  {
   "cell_type": "code",
   "execution_count": 4,
   "id": "7909c776-865b-4403-b452-2d772a6fc24f",
   "metadata": {},
   "outputs": [],
   "source": [
    "import numpy as np\n",
    "from qutip import *\n",
    "from tqdm import tqdm\n",
    "from multiprocessing import Pool\n",
    "import matplotlib\n",
    "from math import factorial\n",
    "from matplotlib import pyplot as plt\n",
    "plt.rc('font', size=30)          # controls default text sizes\n",
    "plt.rc('xtick', labelsize=30)    # fontsize of the tick labels\n",
    "plt.rc('ytick', labelsize=30)    # fontsize of the tick labels\n",
    "plt.rc('legend', fontsize=20)    # legend fontsize\n",
    "plt.rc('lines', markersize = 10)\n",
    "\n",
    "matplotlib.rcParams['text.usetex'] = True\n",
    "plt.rcParams[\"figure.figsize\"]= 16, 10\n",
    "plt.rcParams['figure.dpi'] = 70\n",
    "matplotlib.rcParams['lines.linewidth'] = 4\n",
    "plt.rcParams['axes.grid'] = False\n",
    "plt.rcParams['axes.grid.which'] = \"both\"\n",
    "props = dict(boxstyle='round', alpha=0.01)"
   ]
  },
  {
   "cell_type": "code",
   "execution_count": 5,
   "id": "49971827-84a8-4d46-8853-2c37039e2d93",
   "metadata": {},
   "outputs": [],
   "source": [
    "def ham(J,K,h1,h2):\n",
    "    sz = sigmaz()/2\n",
    "    sx = sigmax()/2\n",
    "    sy = sigmay()/2\n",
    "    H = 0\n",
    "    for ch in range(K):\n",
    "        H += J*tensor([sx] + [identity(2)]*ch + [sx] + [identity(2)]*(K-ch-1))\n",
    "        H += J*tensor([sy] + [identity(2)]*ch + [sy] + [identity(2)]*(K-ch-1))\n",
    "        H += J*tensor([sz] + [identity(2)]*ch + [sz] + [identity(2)]*(K-ch-1))\n",
    "        H += h2*tensor([identity(2)]*(1+ch) + [sz] + [identity(2)]*(K-ch-1))\n",
    "    H += h1*tensor([sz] + [identity(2)]*K)\n",
    "    return H"
   ]
  },
  {
   "cell_type": "code",
   "execution_count": 3,
   "id": "61c216e5-bbb7-4b36-86ef-b72efc570c78",
   "metadata": {},
   "outputs": [],
   "source": [
    "def get_Z(J,K,h,beta):\n",
    "    h1,h2 = h\n",
    "    H = ham(J,K,h1,h2)\n",
    "    E = H.eigenenergies()\n",
    "    Z = np.sum(np.exp(-beta*E))\n",
    "    return Z\n",
    "\n",
    "\n",
    "def get_chi_num(J,K,T_range,pos=0):\n",
    "    delta = [np.array([1e-4, 0]), np.array([0, 1e-4]), np.array([1e-4, 1e-4])][pos]\n",
    "    chi = []\n",
    "    for T in T_range:\n",
    "        beta = 1/T\n",
    "        Z = get_Z(J,K,[0,0],beta)\n",
    "        Z_plus_deltaZ = get_Z(J,K,delta,beta)\n",
    "        Z_plus_2deltaZ = get_Z(J,K,2*delta,beta)\n",
    "        dZdh = (Z_plus_deltaZ - Z)/sum(delta)\n",
    "        d2Zdh2 = (Z_plus_2deltaZ + Z - 2*Z_plus_deltaZ)/(sum(delta)**2)\n",
    "        chi.append(T * (d2Zdh2/Z - (dZdh/Z)**2))\n",
    "        \n",
    "    return chi"
   ]
  },
  {
   "cell_type": "code",
   "execution_count": null,
   "id": "a5b5e9c8-6a10-47ca-8183-2c6e65ab568e",
   "metadata": {},
   "outputs": [],
   "source": [
    "def get_chi_exact(J,K,T_range):\n",
    "    M_max = K/2\n",
    "    M_min = 0 if K%2 == 0 else 1/2\n",
    "    M_range = np.arange(M_min, M_max+0.1)\n",
    "    C_M = np.array([factorial(K-1)/(factorial(int(K/2 - M))*factorial(int(K/2 - 1 + M))) for M in M_range])\n",
    "    chi = []\n",
    "    for T in T_range:\n",
    "        beta = 1/T\n",
    "        Z = np.sum(C_M * (4*np.exp(beta*J/4) * M_range * np.cosh(beta*J*(M_range+1/2)/2) + 2*np.exp(-beta*J*M_range/2)))\n",
    "        Zpp = 0\n",
    "        Sigma = np.array([np.sum((np.arange(-M, M-1+0.1) + 1/2)**2) for M in M_range])\n",
    "        theta = (beta*J/2)*(M_range + 1/2)\n",
    "        Zpp += (beta**2 / 2)*np.sum(C_M * np.exp(-beta*J*M_range/2))\n",
    "        Zpp += (beta**2 * np.exp(beta*J/4) / 2) * np.sum(C_M * (2*M_range*np.sinh(theta) + (beta**2 * J**2 / 4)*Sigma*(np.cosh(theta)/theta - np.sinh(theta)/(theta**2)))/theta)\n",
    "        chi.append(T * Zpp/Z)\n",
    "        # print (Z, Zpp)\n",
    "    return np.array(chi)\n",
    "\n",
    "\n",
    "def get_chi_exact_bath(J, K, T_range):\n",
    "    M_max = K/2\n",
    "    M_min = 0 if K%2 == 0 else 1/2\n",
    "    M_range = np.arange(M_min, M_max+0.1)\n",
    "    C_M = np.array([factorial(K-1)/(factorial(int(K/2 - M))*factorial(int(K/2 - 1 + M))) for M in M_range])\n",
    "    phi = J*(M_range + 1/2)/2\n",
    "    chi = []\n",
    "    for T in T_range:\n",
    "        beta = 1/T\n",
    "        Z_ex = np.sum(C_M * (2*np.exp(-beta*J*M_range/2) + 4*M_range*np.exp(beta*J/4)*np.cosh(beta*phi)))\n",
    "        Sigma = []\n",
    "        for M in M_range:\n",
    "            m_range = np.arange(-M, M) if M != 0 else np.array([0])\n",
    "            Sigma.append(np.sum((m_range+1/2)**2))\n",
    "        Sigma = np.array(Sigma)\n",
    "        Zpp_ex = (beta**2)*np.sum(C_M * 2*M_range**2 * np.exp(-beta*J*M_range/2))\n",
    "        Zpp_ex += (beta**2)*2*np.exp(beta*J/4)*np.sum(C_M * Sigma*(1 + J**2/(16*phi**2))*np.cosh(beta*phi))\n",
    "        Zpp_ex += (beta**2)*2*np.exp(beta*J/4)*np.sum(C_M * (Sigma*J*(1 - J/(16*beta*phi**2)) + M_range/beta)*np.sinh(beta*phi)/(2*phi))\n",
    "        chi.append(Zpp_ex*T/Z_ex)\n",
    "    \n",
    "    return chi"
   ]
  },
  {
   "cell_type": "code",
   "execution_count": null,
   "id": "4353e364-9219-4932-9f02-6136af794b6b",
   "metadata": {},
   "outputs": [],
   "source": [
    "T_range = 10**np.linspace(-1.5, 0, 50)\n",
    "K = 4\n",
    "J = 1\n",
    "cols = ['r', 'b', 'g', 'y']\n",
    "for K in [1,2,4,6]:\n",
    "    cols = [cols[-1]] + cols[:-1]\n",
    "    J = 1/K\n",
    "    chi_ex = get_chi_exact(J,K,T_range)\n",
    "    chi_num = get_chi_num(J,K,T_range,pos=0)\n",
    "    plt.scatter(T_range, chi_ex, marker='.', color=cols[-1], label=r\"(analytical)$K={}$\".format(K))\n",
    "    plt.plot(T_range, chi_num, color=cols[-1], lw = 1, label=r\"(numerical)$K={}$\".format(K))\n",
    "\n",
    "# # plt.plot(T_range, 1/T_range, ls=\"--\")\n",
    "plt.title(r\"$J = 1/K$\")\n",
    "plt.xscale(\"log\")\n",
    "plt.yscale(\"log\")\n",
    "plt.ylabel(\"$\\chi_\\mathrm{imp}$\")\n",
    "plt.xlabel(r\"$T$\")\n",
    "plt.legend()\n",
    "plt.savefig(\"chi_mchannel.pdf\", bbox_inches='tight')\n",
    "plt.show()"
   ]
  },
  {
   "cell_type": "code",
   "execution_count": null,
   "id": "7a31f3a9-1940-41ff-ac63-1fad8a6689e2",
   "metadata": {},
   "outputs": [],
   "source": [
    "K_range = np.int64(10**np.linspace(0,3,1000))\n",
    "Sigma_max = np.array([np.sum((np.arange(-K/2, K/2-1+0.1) + 1/2)**2) for K in K_range])\n",
    "plt.plot(K_range, Sigma_max/(K_range*(K_range+1)**2))\n",
    "plt.axhline(1/12,0,1, ls=\"--\")\n",
    "plt.xscale(\"log\")"
   ]
  },
  {
   "cell_type": "code",
   "execution_count": null,
   "id": "5ec9127d-0dc5-4435-a170-d9a3fecf767c",
   "metadata": {},
   "outputs": [],
   "source": [
    "T_range = 10**np.linspace(-2.5, 2, 100)\n",
    "K = 4\n",
    "J = 2\n",
    "cols = ['r', 'b', 'g', 'y']\n",
    "for K in range(1,5):\n",
    "    cols = [cols[-1]] + cols[:-1]\n",
    "    J = 1/K\n",
    "    chi_ex = get_chi_exact_bath(J,K,T_range)\n",
    "    chi_num = get_chi_num(J,K,T_range, pos=1)\n",
    "    plt.scatter(T_range, chi_ex, marker='.', color=cols[-1], label=r\"(analytical)$K={}$\".format(K))\n",
    "    plt.plot(T_range, chi_num, color=cols[-1], lw = 2, label=r\"(numerical)$K={}$\".format(K))\n",
    "\n",
    "plt.title(r\"$J = 1/K$\")\n",
    "plt.xscale(\"log\")\n",
    "plt.yscale(\"log\")\n",
    "plt.ylabel(\"$\\chi_\\mathrm{imp}$\")\n",
    "plt.xlabel(r\"temperature\")\n",
    "plt.legend()\n",
    "# plt.savefig(\"chi_mchannel.pdf\", bbox_inches='tight')\n",
    "plt.show()"
   ]
  },
  {
   "cell_type": "code",
   "execution_count": 9,
   "id": "9da9f85b-5c0c-46a6-9be8-89033ee97a43",
   "metadata": {},
   "outputs": [
    {
     "data": {
      "image/png": "[encoded data removed]",
      "text/plain": [
       "<Figure size 1120x700 with 1 Axes>"
      ]
     },
     "metadata": {
      "needs_background": "light"
     },
     "output_type": "display_data"
    }
   ],
   "source": [
    "J = 1\n",
    "cols = ['r', 'b', 'g', 'y']\n",
    "for K in [1,2,5]:\n",
    "    cols = [cols[-1]] + cols[:-1]\n",
    "    for h in 10**np.linspace(-1, -8, 150):\n",
    "        H = ham(J,K,h,h)\n",
    "        E = H.eigenenergies()\n",
    "        F1 = sum(E[E==min(E)])\n",
    "        H = ham(J,K,h-h/10,h-h/10)\n",
    "        E = H.eigenenergies()\n",
    "        F2 = sum(E[E==min(E)])\n",
    "        dFdh = (F2 - F1)/(-h/10)\n",
    "        plt.scatter(h, dFdh, marker=\".\", color=cols[-1])\n",
    "        H = ham(J,K,-h,-h)\n",
    "        E = H.eigenenergies()\n",
    "        F1 = sum(E[E==min(E)])\n",
    "        H = ham(J,K,-h+h/10,-h+h/10)\n",
    "        E = H.eigenenergies()\n",
    "        F2 = sum(E[E==min(E)])\n",
    "        dFdh = (F2 - F1)/(h/10)\n",
    "        plt.scatter(-h, dFdh, marker=\".\", color=cols[-1])\n",
    "    plt.scatter([], [], marker=\".\", color=cols[-1], label=r\"$K={}$\".format(K))\n",
    "\n",
    "plt.legend()\n",
    "plt.xlabel(r\"$h(\\in [1, 1e-10])$\")\n",
    "plt.ylabel(r\"$dF/dh$\")\n",
    "plt.savefig(\"free_energy_nonanaliticity.pdf\", bbox_inches=\"tight\")"
   ]
  },
  {
   "cell_type": "code",
   "execution_count": 6,
   "id": "94425a02-ac6f-4868-a79c-8abc76bbde54",
   "metadata": {},
   "outputs": [
    {
     "name": "stdout",
     "output_type": "stream",
     "text": [
      "[-3.00000000e+00 -3.00000000e+00  0.00000000e+00  1.33226763e-15\n",
      "  1.50000000e+00  1.50000000e+00  1.50000000e+00  1.50000000e+00]\n"
     ]
    }
   ],
   "source": [
    "H = ham(3,2,0,0)\n",
    "E, X = H.eigenstates()\n",
    "print (E)"
   ]
  },
  {
   "cell_type": "code",
   "execution_count": null,
   "id": "20e74f23-7b29-41fa-bb92-3604eaddbe15",
   "metadata": {},
   "outputs": [],
   "source": []
  }
 ],
 "metadata": {
  "kernelspec": {
   "display_name": "Python 3 (ipykernel)",
   "language": "python",
   "name": "python3"
  },
  "language_info": {
   "codemirror_mode": {
    "name": "ipython",
    "version": 3
   },
   "file_extension": ".py",
   "mimetype": "text/x-python",
   "name": "python",
   "nbconvert_exporter": "python",
   "pygments_lexer": "ipython3",
   "version": "3.9.7"
  }
 },
 "nbformat": 4,
 "nbformat_minor": 5
}
