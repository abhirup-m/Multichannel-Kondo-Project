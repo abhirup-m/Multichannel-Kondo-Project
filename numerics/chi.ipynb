{
 "cells": [
  {
   "cell_type": "code",
   "execution_count": null,
   "id": "7909c776-865b-4403-b452-2d772a6fc24f",
   "metadata": {},
   "outputs": [],
   "source": [
    "import numpy as np\n",
    "from qutip import *\n",
    "from tqdm import tqdm\n",
    "from multiprocessing import Pool\n",
    "import matplotlib\n",
    "from math import factorial\n",
    "from matplotlib import pyplot as plt\n",
    "plt.rc('font', size=30)          # controls default text sizes\n",
    "plt.rc('xtick', labelsize=30)    # fontsize of the tick labels\n",
    "plt.rc('ytick', labelsize=30)    # fontsize of the tick labels\n",
    "plt.rc('legend', fontsize=30)    # legend fontsize\n",
    "plt.rc('lines', markersize = 10)\n",
    "\n",
    "matplotlib.rcParams['text.usetex'] = True\n",
    "plt.rcParams[\"figure.figsize\"]= 30, 20\n",
    "plt.rcParams['figure.dpi'] = 70\n",
    "matplotlib.rcParams['lines.linewidth'] = 4\n",
    "plt.rcParams['axes.grid'] = False\n",
    "plt.rcParams['axes.grid.which'] = \"both\"\n",
    "props = dict(boxstyle='round', alpha=0.01)"
   ]
  },
  {
   "cell_type": "code",
   "execution_count": null,
   "id": "49971827-84a8-4d46-8853-2c37039e2d93",
   "metadata": {},
   "outputs": [],
   "source": [
    "def ham(J,K,h1,h2):\n",
    "    sz = sigmaz()/2\n",
    "    sx = sigmax()/2\n",
    "    sy = sigmay()/2\n",
    "    H = 0\n",
    "    for ch in range(K):\n",
    "        H += J*tensor([sx] + [identity(2)]*ch + [sx] + [identity(2)]*(K-ch-1))\n",
    "        H += J*tensor([sy] + [identity(2)]*ch + [sy] + [identity(2)]*(K-ch-1))\n",
    "        H += J*tensor([sz] + [identity(2)]*ch + [sz] + [identity(2)]*(K-ch-1))\n",
    "        H += h2*tensor([identity(2)]*(1+ch) + [sz] + [identity(2)]*(K-ch-1))\n",
    "    H += h1*tensor([sz] + [identity(2)]*K)\n",
    "    return H"
   ]
  },
  {
   "cell_type": "code",
   "execution_count": null,
   "id": "61c216e5-bbb7-4b36-86ef-b72efc570c78",
   "metadata": {},
   "outputs": [],
   "source": [
    "def get_Z(J,K,h1,h2,T):\n",
    "    beta = 1/T\n",
    "    H = ham(J,K,h1,h2)\n",
    "    E = H.eigenenergies()\n",
    "    Z = np.sum(np.exp(-beta*E))\n",
    "    return Z\n",
    "\n",
    "def get_chi_num(J,K,T_range):\n",
    "    h2 = 0\n",
    "    h1 = 0\n",
    "    deltah = 0.00001\n",
    "    chi = []\n",
    "    for T in T_range:\n",
    "        Z = get_Z(J,K,h1,h2,T)\n",
    "        Z_plus_deltaZ = get_Z(J,K,h1+deltah,h2,T)\n",
    "        Z_plus_2deltaZ = get_Z(J,K,h1+2*deltah,h2,T)\n",
    "        dZdh = (Z_plus_deltaZ - Z)/deltah\n",
    "        d2zdh2 = (Z_plus_2deltaZ + Z - 2*Z_plus_deltaZ)/(deltah**2)\n",
    "        chi.append(T * (d2zdh2/Z - (dZdh/Z)**2))\n",
    "        # print (Z, d2zdh2)\n",
    "    return np.array(chi)"
   ]
  },
  {
   "cell_type": "code",
   "execution_count": null,
   "id": "a5b5e9c8-6a10-47ca-8183-2c6e65ab568e",
   "metadata": {},
   "outputs": [],
   "source": [
    "def get_chi_exact(J,K,T_range):\n",
    "    M_max = K/2\n",
    "    M_min = 0 if K%2 == 0 else 1/2\n",
    "    M_range = np.arange(M_min, M_max+0.1)\n",
    "    C_M = np.array([factorial(K-1)/(factorial(int(K/2 - M))*factorial(int(K/2 - 1 + M))) for M in M_range])\n",
    "    chi = []\n",
    "    for T in T_range:\n",
    "        beta = 1/T\n",
    "        Z = np.sum(C_M * (4*np.exp(beta*J/4) * M_range * np.cosh(beta*J*(M_range+1/2)/2) + 2*np.exp(-beta*J*M_range/2)))\n",
    "        Zpp = 0\n",
    "        Sigma = np.array([np.sum((np.arange(-M, M-1+0.1) + 1/2)**2) for M in M_range])\n",
    "        theta = (beta*J/2)*(M_range + 1/2)\n",
    "        Zpp += (beta**2 / 2)*np.sum(C_M * np.exp(-beta*J*M_range/2))\n",
    "        Zpp += (beta**2 * np.exp(beta*J/4) / 2) * np.sum(C_M * (2*M_range*np.sinh(theta) + (beta**2 * J**2 / 4)*Sigma*(np.cosh(theta)/theta - np.sinh(theta)/(theta**2)))/theta)\n",
    "        chi.append(T * Zpp/Z)\n",
    "        # print (Z, Zpp)\n",
    "    return np.array(chi)"
   ]
  },
  {
   "cell_type": "code",
   "execution_count": null,
   "id": "4353e364-9219-4932-9f02-6136af794b6b",
   "metadata": {},
   "outputs": [],
   "source": [
    "T_range = 10**np.linspace(-2, -0.5, 100)\n",
    "K = 4\n",
    "J = 1\n",
    "cols = ['r', 'b', 'g', 'y']\n",
    "for K in range(2,6):\n",
    "    cols = [cols[-1]] + cols[:-1]\n",
    "    J = 1/K\n",
    "    chi_ex = get_chi_exact(J,K,T_range)\n",
    "    chi_num = get_chi_num(J,K,T_range)\n",
    "    Sigma_max = np.sum((np.arange(-K/2, K/2-1+0.1) + 1/2)**2)\n",
    "    plt.scatter(T_range, chi_ex, marker='.', color=cols[-1], label=r\"(analytical)$K={}$\".format(K))\n",
    "    plt.plot(T_range, chi_num, color=cols[-1], label=r\"(numerical)$K={}$\".format(K))\n",
    "\n",
    "plt.title(r\"$J = 1/K$\")\n",
    "plt.xscale(\"log\")\n",
    "plt.ylabel(\"$\\chi_\\mathrm{imp}$\")\n",
    "plt.xlabel(r\"temperature\")\n",
    "plt.legend()\n",
    "plt.savefig(\"chi_mchannel.pdf\", bbox_inches='tight')\n",
    "plt.show()"
   ]
  },
  {
   "cell_type": "code",
   "execution_count": null,
   "id": "7a31f3a9-1940-41ff-ac63-1fad8a6689e2",
   "metadata": {},
   "outputs": [],
   "source": []
  }
 ],
 "metadata": {
  "kernelspec": {
   "display_name": "Python 3 (ipykernel)",
   "language": "python",
   "name": "python3"
  },
  "language_info": {
   "codemirror_mode": {
    "name": "ipython",
    "version": 3
   },
   "file_extension": ".py",
   "mimetype": "text/x-python",
   "name": "python",
   "nbconvert_exporter": "python",
   "pygments_lexer": "ipython3",
   "version": "3.9.7"
  }
 },
 "nbformat": 4,
 "nbformat_minor": 5
}
