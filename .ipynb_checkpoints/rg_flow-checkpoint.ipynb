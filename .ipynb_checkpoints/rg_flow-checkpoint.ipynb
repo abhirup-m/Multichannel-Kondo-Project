{
 "cells": [
  {
   "cell_type": "code",
   "execution_count": 6,
   "id": "7909c776-865b-4403-b452-2d772a6fc24f",
   "metadata": {},
   "outputs": [],
   "source": [
    "import numpy as np\n",
    "from matplotlib import pyplot as plt"
   ]
  },
  {
   "cell_type": "code",
   "execution_count": 3,
   "id": "f3289a01-869e-44e8-bdcb-b27bacf21961",
   "metadata": {},
   "outputs": [],
   "source": [
    "def rg(J,Dj,Nj,nj,K,w):\n",
    "    if K == 1:\n",
    "        return J**2 * nj * 2 * (Dj - 2*w) / ((Dj - 2*w)**2 - J**2 / 4)\n",
    "    else:\n",
    "        return J**2 * nj * 2 * (Dj - 2*w) / ((Dj - 2*w)**2 - J**2 / 4) - (1/4)*J**3 * nj * Nj * K / ((Dj - 2*w)**2 - J**2 / 4)"
   ]
  },
  {
   "cell_type": "code",
   "execution_count": 66,
   "id": "9926b959-45fa-4b59-a5d7-5ed946f405fc",
   "metadata": {},
   "outputs": [
    {
     "name": "stdout",
     "output_type": "stream",
     "text": [
      "141\n"
     ]
    },
    {
     "data": {
      "image/png": "[encoded data removed]",
      "text/plain": [
       "<Figure size 432x288 with 1 Axes>"
      ]
     },
     "metadata": {
      "needs_background": "light"
     },
     "output_type": "display_data"
    }
   ],
   "source": [
    "J = 0.001\n",
    "D = 0.5\n",
    "K = 2\n",
    "nj = 10\n",
    "Nj = 200\n",
    "sig1 = sig2 = 0\n",
    "for Dj in np.linspace(D, 0, Nj):\n",
    "    w = -Dj/2\n",
    "    if sig1 == 0:\n",
    "        sig1 = 2*(Dj - 2*w) - J*K*Nj/4\n",
    "        sig2 = (D - 2*w)**2 - J**2 / 4\n",
    "        if sig1 * sig2 == 0:\n",
    "            break\n",
    "    else:\n",
    "        if sig1 * 2*(Dj - 2*w) - J*K*Nj/4 <= 0 or sig2 * (D - 2*w)**2 - J**2 / 4 <= 0:\n",
    "        # if sig2 * (D - 2*w)**2 - J**2 / 4 < 0:\n",
    "            print (Nj)\n",
    "            break\n",
    "        sig1 *= 2*(Dj - 2*w) - J*K*Nj/4\n",
    "        sig2 *= (D - 2*w)**2 - J**2 / 4\n",
    "    # print (sig1, sig2)\n",
    "    plt.scatter(Dj/D, J)\n",
    "    J += rg(J,Dj,Nj,nj,K,w)\n",
    "    Nj -= 1"
   ]
  },
  {
   "cell_type": "code",
   "execution_count": null,
   "id": "2c6ec326-4648-4dad-887c-57910532457f",
   "metadata": {},
   "outputs": [],
   "source": []
  }
 ],
 "metadata": {
  "kernelspec": {
   "display_name": "Python 3 (ipykernel)",
   "language": "python",
   "name": "python3"
  },
  "language_info": {
   "codemirror_mode": {
    "name": "ipython",
    "version": 3
   },
   "file_extension": ".py",
   "mimetype": "text/x-python",
   "name": "python",
   "nbconvert_exporter": "python",
   "pygments_lexer": "ipython3",
   "version": "3.9.7"
  }
 },
 "nbformat": 4,
 "nbformat_minor": 5
}
