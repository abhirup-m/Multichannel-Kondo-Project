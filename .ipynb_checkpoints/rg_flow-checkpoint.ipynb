{
 "cells": [
  {
   "cell_type": "code",
   "execution_count": null,
   "id": "7909c776-865b-4403-b452-2d772a6fc24f",
   "metadata": {},
   "outputs": [],
   "source": [
    "import numpy as np\n",
    "from tqdm import tqdm\n",
    "from multiprocessing import Pool\n",
    "import matplotlib\n",
    "from matplotlib import pyplot as plt\n",
    "plt.rc('font', size=30)          # controls default text sizes\n",
    "plt.rc('xtick', labelsize=30)    # fontsize of the tick labels\n",
    "plt.rc('ytick', labelsize=30)    # fontsize of the tick labels\n",
    "plt.rc('legend', fontsize=30)    # legend fontsize\n",
    "plt.rc('lines', markersize = 10)\n",
    "\n",
    "matplotlib.rcParams['text.usetex'] = True\n",
    "plt.rcParams[\"figure.figsize\"]= 15, 10\n",
    "plt.rcParams['figure.dpi'] = 70\n",
    "matplotlib.rcParams['lines.linewidth'] = 4\n",
    "plt.rcParams['axes.grid'] = False\n",
    "plt.rcParams['axes.grid.which'] = \"both\"\n",
    "props = dict(boxstyle='round', alpha=0.01)"
   ]
  },
  {
   "cell_type": "code",
   "execution_count": null,
   "id": "f3289a01-869e-44e8-bdcb-b27bacf21961",
   "metadata": {},
   "outputs": [],
   "source": [
    "def rg(J,Dj,rho,K,deltaD):\n",
    "    if K == 1:\n",
    "        return J**2 * rho * deltaD / (Dj - J/4)\n",
    "    else:\n",
    "        return J**2 * rho * deltaD * (1 - J*rho*K/8) / (Dj - J/4)"
   ]
  },
  {
   "cell_type": "code",
   "execution_count": null,
   "id": "9926b959-45fa-4b59-a5d7-5ed946f405fc",
   "metadata": {},
   "outputs": [],
   "source": [
    "deltaD = 0.01\n",
    "\n",
    "def get_min_rho(D0):\n",
    "    rho = 0\n",
    "    while True:\n",
    "        rho += 0.01\n",
    "        J = D0/30\n",
    "        nj = rho * deltaD\n",
    "        D = np.arange(D0, 0, -deltaD)\n",
    "        for Dj in D:\n",
    "            sig_den = Dj - J/4\n",
    "            sig_num = 1 - J*rho*K/8\n",
    "            J += rg(J,Dj,rho,K,deltaD)\n",
    "            if sig_den * (Dj - J/4) <= 0:\n",
    "                break\n",
    "            elif sig_num * (1 - J*rho*K/8) <= 0:\n",
    "                return rho\n",
    "\n",
    "\n",
    "K = 2\n",
    "D_range = 10**np.linspace(0,4,8)\n",
    "rho_min = np.array(list(tqdm(Pool().imap(get_min_rho, D_range), total=len(D_range))))\n",
    "plt.plot(D_range, rho_min, marker=\"o\", color=\"r\")\n",
    "plt.xlabel(r\"$D_0$\")\n",
    "plt.ylabel(r\"$\\rho_\\mathrm{min}$\", color=\"r\")\n",
    "plt.title(r\"$J_0 = D_0/100, \\Delta D = {}, K = {}$\".format(deltaD, K))\n",
    "J1 = 1/(rho_min*K)\n",
    "ax2 = plt.gca().twinx()\n",
    "ax2.plot(D_range, J1/D_range, marker=\"o\", color=\"b\")\n",
    "ax2.set_ylabel(r\"$J_1^* / D_0$\", color=\"b\")\n",
    "ax2.set_xlabel(r\"$D_0$\")\n",
    "ax2.set_xscale(\"log\")\n",
    "plt.savefig(\"rhomin_D.pdf\", bbox_inches=\"tight\")\n",
    "plt.show()"
   ]
  },
  {
   "cell_type": "code",
   "execution_count": null,
   "id": "49971827-84a8-4d46-8853-2c37039e2d93",
   "metadata": {},
   "outputs": [],
   "source": []
  }
 ],
 "metadata": {
  "kernelspec": {
   "display_name": "Python 3 (ipykernel)",
   "language": "python",
   "name": "python3"
  },
  "language_info": {
   "codemirror_mode": {
    "name": "ipython",
    "version": 3
   },
   "file_extension": ".py",
   "mimetype": "text/x-python",
   "name": "python",
   "nbconvert_exporter": "python",
   "pygments_lexer": "ipython3",
   "version": "3.9.7"
  }
 },
 "nbformat": 4,
 "nbformat_minor": 5
}
